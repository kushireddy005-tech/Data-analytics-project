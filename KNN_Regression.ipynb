{
 "cells": [
  {
   "cell_type": "code",
   "execution_count": 50,
   "metadata": {},
   "outputs": [],
   "source": [
    "import pandas as pd\n",
    "import numpy as np\n",
    "from matplotlib import pyplot as plt\n",
    "import time\n"
   ]
  },
  {
   "cell_type": "markdown",
   "metadata": {},
   "source": [
    "### Importing a regression dataset from sklearn \n"
   ]
  },
  {
   "cell_type": "code",
   "execution_count": 51,
   "metadata": {},
   "outputs": [],
   "source": [
    "from sklearn.datasets import fetch_california_housing\n",
    "X, y = fetch_california_housing(return_X_y=True)"
   ]
  },
  {
   "cell_type": "markdown",
   "metadata": {},
   "source": [
    "### Setting the train and test split percentage \n"
   ]
  },
  {
   "cell_type": "code",
   "execution_count": 52,
   "metadata": {},
   "outputs": [],
   "source": [
    "\n",
    "train_split_percent = 0.7"
   ]
  },
  {
   "cell_type": "code",
   "execution_count": 53,
   "metadata": {},
   "outputs": [
    {
     "data": {
      "text/plain": [
       "((20640, 8), (20640,))"
      ]
     },
     "execution_count": 53,
     "metadata": {},
     "output_type": "execute_result"
    }
   ],
   "source": [
    "X.shape,y.shape"
   ]
  },
  {
   "cell_type": "markdown",
   "metadata": {},
   "source": [
    "### Splitting the dataset into test and train datasets"
   ]
  },
  {
   "cell_type": "code",
   "execution_count": 54,
   "metadata": {},
   "outputs": [],
   "source": [
    "size = X.shape[0]\n",
    "X_train = X[:int(train_split_percent * size),:]\n",
    "X_test = X[int(train_split_percent * size):,:]\n",
    "y_train = y[:int(train_split_percent * size)]\n",
    "y_test = y[int(train_split_percent * size):]\n"
   ]
  },
  {
   "cell_type": "markdown",
   "metadata": {},
   "source": [
    "### Standardizing the X_train and X_test daatsets"
   ]
  },
  {
   "cell_type": "code",
   "execution_count": 55,
   "metadata": {},
   "outputs": [],
   "source": [
    "mu = np.mean(X_train, 0)\n",
    "sigma = np.std(X_train, 0)\n",
    "\n",
    "X_train = (X_train - mu ) / sigma\n",
    "\n",
    "#We use the same mean and SD as the one of X_train as we dont know the mean of X_test\n",
    "\n",
    "X_test = (X_test - mu ) / sigma"
   ]
  },
  {
   "cell_type": "code",
   "execution_count": 56,
   "metadata": {},
   "outputs": [],
   "source": [
    "#Standardizing the y_train data\n",
    "\n",
    "mu_y = np.mean(y_train, 0)\n",
    "sigma_y = np.std(y_train, 0, ddof = 0)\n",
    "\n",
    "y_train = (y_train - mu_y ) / sigma_y"
   ]
  },
  {
   "cell_type": "code",
   "execution_count": 58,
   "metadata": {},
   "outputs": [
    {
     "data": {
      "text/plain": [
       "((14447, 8), (14447,), (6193, 8), (6193,))"
      ]
     },
     "execution_count": 58,
     "metadata": {},
     "output_type": "execute_result"
    }
   ],
   "source": [
    "\n",
    "X_train.shape, y_train.shape,X_test.shape,y_test.shape"
   ]
  },
  {
   "cell_type": "code",
   "execution_count": 59,
   "metadata": {},
   "outputs": [
    {
     "data": {
      "text/plain": [
       "((14447, 1), (6193, 1), (6193, 1))"
      ]
     },
     "execution_count": 59,
     "metadata": {},
     "output_type": "execute_result"
    }
   ],
   "source": [
    "#Changing the shape of the target varibale for easy computation \n",
    "\n",
    "y_train = y_train.reshape(len(y_train),1)\n",
    "y_test = y_test.reshape(len(y_test),1)\n",
    "y_pred = np.zeros(y_test.shape)\n",
    "y_train.shape, y_test.shape,y_pred.shape"
   ]
  },
  {
   "cell_type": "markdown",
   "metadata": {},
   "source": [
    "## Naive method using for loop to calculate the KNN values. "
   ]
  },
  {
   "cell_type": "code",
   "execution_count": 76,
   "metadata": {},
   "outputs": [
    {
     "name": "stdout",
     "output_type": "stream",
     "text": [
      "0.8297673466588273\n",
      "10.191254000000072\n"
     ]
    }
   ],
   "source": [
    "\n",
    "start = time.process_time()\n",
    "n_neigh = 10\n",
    "for row in range(len(X_test)):\n",
    "    euclidian_distance = np.sqrt(np.sum((X_train - X_test[row])**2, axis = 1 ))\n",
    "    y_pred[row] = y_train[np.argsort(euclidian_distance, axis = 0)[:n_neigh]].mean()* sigma_y + mu_y\n",
    "    \n",
    "#Finding the root mean squared error \n",
    "\n",
    "RMSE = np.sqrt(np.mean((y_test - y_pred)**2))\n",
    "print(RMSE)\n",
    "print(time.process_time() - start)"
   ]
  },
  {
   "cell_type": "code",
   "execution_count": 74,
   "metadata": {},
   "outputs": [
    {
     "data": {
      "text/plain": [
       "(14447,)"
      ]
     },
     "execution_count": 74,
     "metadata": {},
     "output_type": "execute_result"
    }
   ],
   "source": [
    "euclidian_distance.shape"
   ]
  },
  {
   "cell_type": "markdown",
   "metadata": {},
   "source": [
    "## Vectorized approach to calculate the KNN values using numpy broadcasting "
   ]
  },
  {
   "cell_type": "code",
   "execution_count": 75,
   "metadata": {},
   "outputs": [
    {
     "name": "stdout",
     "output_type": "stream",
     "text": [
      "0.8277836496033618\n",
      "58.84885499999996\n"
     ]
    }
   ],
   "source": [
    "# Vectorized approach to find the \n",
    "\n",
    "start = time.process_time()\n",
    "\n",
    "# We are setting a range of K values and calculating the RMSE for each of them. This way we can chose the optimal K value\n",
    "k_list = [x for x in range(1,50,1)]\n",
    "\n",
    "# Calculating the distance matrix using numpy broadcasting technique \n",
    "distance = np.sqrt(((X_train[:, :, None] - X_test[:, :, None].T) ** 2).sum(1))\n",
    "\n",
    "#Sorting each data points of the distance matrix to reduce computational effort \n",
    "sorted_distance = np.argsort(distance, axis = 0)\n",
    "\n",
    "#The knn function takes in the sorted distance and returns the RMSE of the \n",
    "def knn(X_train,X_test,y_train,y_test,sorted_distance,k):\n",
    "    y_pred = np.zeros(y_test.shape)\n",
    "    for row in range(len(X_test)):\n",
    "        \n",
    "        #Transforming the y_train values to adjust the scale. \n",
    "        y_pred[row] = y_train[sorted_distance[:,row][:k]].mean() * sigma_y + mu_y\n",
    "\n",
    "    RMSE = np.sqrt(np.mean((y_test - y_pred)**2))\n",
    "    return RMSE\n",
    "\n",
    "#Storing the RMSE values in a list for each k value \n",
    "rmse_list = []\n",
    "for i in k_list:\n",
    "    rmse_list.append(knn(X_train,X_test,y_train,y_test,sorted_distance,i))\n",
    "    \n",
    "print(time.process_time() - start)\n"
   ]
  },
  {
   "cell_type": "markdown",
   "metadata": {},
   "source": [
    "### Finding the optimal K value "
   ]
  },
  {
   "cell_type": "code",
   "execution_count": 77,
   "metadata": {},
   "outputs": [
    {
     "data": {
      "text/plain": [
       "Text(0, 0.5, 'RMSE')"
      ]
     },
     "execution_count": 77,
     "metadata": {},
     "output_type": "execute_result"
    },
    {
     "data": {
      "image/png": "[encoded data removed]",
      "text/plain": [
       "<Figure size 432x288 with 1 Axes>"
      ]
     },
     "metadata": {
      "needs_background": "light"
     },
     "output_type": "display_data"
    }
   ],
   "source": [
    "plt.plot(k_list,rmse_list)\n",
    "plt.xlabel(\"K values\")\n",
    "plt.ylabel(\"RMSE\")\n"
   ]
  },
  {
   "cell_type": "code",
   "execution_count": 71,
   "metadata": {},
   "outputs": [
    {
     "data": {
      "text/plain": [
       "0.8277836496033618"
      ]
     },
     "execution_count": 71,
     "metadata": {},
     "output_type": "execute_result"
    }
   ],
   "source": [
    "#Finding the optimal K value\n",
    "min_rmse_k_value = k_list[rmse_list.index(min(rmse_list))]\n",
    "\n",
    "#Finding the lowest possible RMSE\n",
    "optimal_RMSE = knn(X_train,X_test,y_train,y_test,sorted_distance,min_rmse_k_value)\n",
    "optimal_RMSE"
   ]
  },
  {
   "cell_type": "code",
   "execution_count": null,
   "metadata": {},
   "outputs": [],
   "source": []
  }
 ],
 "metadata": {
  "kernelspec": {
   "display_name": "Python 3",
   "language": "python",
   "name": "python3"
  },
  "language_info": {
   "codemirror_mode": {
    "name": "ipython",
    "version": 3
   },
   "file_extension": ".py",
   "mimetype": "text/x-python",
   "name": "python",
   "nbconvert_exporter": "python",
   "pygments_lexer": "ipython3",
   "version": "3.7.6"
  }
 },
 "nbformat": 4,
 "nbformat_minor": 4
}

